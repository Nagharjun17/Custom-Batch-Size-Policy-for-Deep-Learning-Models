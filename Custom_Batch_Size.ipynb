{
  "cells": [
    {
      "cell_type": "code",
      "execution_count": 1,
      "metadata": {
        "id": "pQY07DcKKwz9"
      },
      "outputs": [],
      "source": [
        "# import the necessary packages\n",
        "import tensorflow as tf\n",
        "from tensorflow.python.keras import backend as K\n",
        "from tensorflow.python.keras.callbacks import *\n",
        "import matplotlib.pyplot as plt\n",
        "%matplotlib inline\n",
        "import seaborn as sns\n",
        "sns.set()\n",
        "# matplotlib.use('Qt5Agg')\n",
        "import numpy as np\n",
        "import tempfile\n",
        "import os\n",
        "from tqdm import tqdm\n",
        "# set the matplotlib backend so figures can be saved in the background\n",
        "import matplotlib\n",
        "matplotlib.use(\"Agg\")\n",
        "# import the necessary packages\n",
        "from sklearn.preprocessing import LabelBinarizer\n",
        "from sklearn.metrics import classification_report\n",
        "from tensorflow.keras.preprocessing.image import ImageDataGenerator\n",
        "from tensorflow.keras.optimizers import SGD\n",
        "from tensorflow.keras.datasets import fashion_mnist\n",
        "from tensorflow.keras.layers import BatchNormalization\n",
        "from tensorflow.keras.layers import Conv2D\n",
        "from tensorflow.keras.layers import MaxPooling2D\n",
        "from tensorflow.keras.layers import AveragePooling2D\n",
        "from tensorflow.keras.layers import Activation\n",
        "from tensorflow.keras.layers import Dense\n",
        "from tensorflow.keras.layers import Dropout\n",
        "from tensorflow.keras.layers import Flatten\n",
        "from tensorflow.keras.layers import Input\n",
        "from tensorflow.keras.models import Model\n",
        "from tensorflow.keras.layers import concatenate\n",
        "import argparse\n",
        "import cv2\n",
        "import sys\n"
      ]
    },
    {
      "cell_type": "code",
      "execution_count": 2,
      "metadata": {
        "id": "wNFcANJGV0kD"
      },
      "outputs": [],
      "source": [
        "class MiniGoogLeNet:\n",
        "    @staticmethod\n",
        "    def conv_module(x, K, kX, kY, stride, chanDim, padding = \"same\"):\n",
        "        # define a CONV => BN => RELU pattern\n",
        "        x = Conv2D(K, (kX, kY), strides = stride, padding = padding)(x)\n",
        "        x = BatchNormalization(axis = chanDim)(x)\n",
        "        x = Activation(\"relu\")(x)\n",
        "\n",
        "        # return the block\n",
        "        return x\n",
        "\n",
        "    @staticmethod\n",
        "    def inception_module(x, numK1x1, numK3x3, chanDim):\n",
        "        # define two CONV modules, then concatenate across the channel dimension\n",
        "        conv_1x1 = MiniGoogLeNet.conv_module(x, numK1x1, 1, 1, (1, 1), chanDim)\n",
        "        conv_3x3 = MiniGoogLeNet.conv_module(x, numK3x3, 3, 3, (1, 1), chanDim)\n",
        "        x = concatenate([conv_1x1, conv_3x3], axis = chanDim)\n",
        "\n",
        "        # return the block\n",
        "        return x\n",
        "\n",
        "    @staticmethod\n",
        "    def downsample_module(x, K, chanDim):\n",
        "        # define the CONV module and POOL, then concatenate across the channel dimensions\n",
        "        conv_3x3 = MiniGoogLeNet.conv_module(x, K, 3, 3, (2, 2), chanDim, padding = \"valid\")\n",
        "        pool = MaxPooling2D((3, 3), strides = (2, 2))(x)\n",
        "        x = concatenate([conv_3x3, pool], axis = chanDim)\n",
        "\n",
        "        # return the block\n",
        "        return x\n",
        "\n",
        "    @staticmethod\n",
        "    def build(width, height, depth, classes):\n",
        "        # initialize the input shape to be \"channel last\" and channels dimension itself\n",
        "        inputShape = (height, width, depth)\n",
        "        chanDim = -1\n",
        "\n",
        "        # if we are using \"channel first\", update the inpute shape and channel dimension\n",
        "        if K.image_data_format() == \"channels_first\":\n",
        "            inputShape = (depth, height, width)\n",
        "            chanDim = 1\n",
        "\n",
        "        # define the model input and first CONV module\n",
        "        inputs = Input(shape = inputShape)\n",
        "        x = MiniGoogLeNet.conv_module(inputs, 96, 3, 3, (1, 1), chanDim)\n",
        "\n",
        "        # two Inception modules followed by a downsample module\n",
        "        x = MiniGoogLeNet.inception_module(x, 32, 32, chanDim)\n",
        "        x = MiniGoogLeNet.inception_module(x, 32, 48, chanDim)\n",
        "        x = MiniGoogLeNet.downsample_module(x, 80, chanDim)\n",
        "\n",
        "        # four Inception module followed by a downsample module\n",
        "        x = MiniGoogLeNet.inception_module(x, 112, 48, chanDim)\n",
        "        x = MiniGoogLeNet.inception_module(x, 96, 64, chanDim)\n",
        "        x = MiniGoogLeNet.inception_module(x, 80, 80, chanDim)\n",
        "        x = MiniGoogLeNet.inception_module(x, 48, 96, chanDim)\n",
        "        x = MiniGoogLeNet.downsample_module(x, 96, chanDim)\n",
        "\n",
        "        # two Inception module followed by global POOL and dropout\n",
        "        x = MiniGoogLeNet.inception_module(x, 176, 160, chanDim)\n",
        "        x = MiniGoogLeNet.inception_module(x, 176, 160, chanDim)\n",
        "        x = AveragePooling2D((7, 7))(x)\n",
        "        x = Dropout(0.5)(x)\n",
        "\n",
        "        # softmax classifier\n",
        "        x = Flatten()(x)\n",
        "        x = Dense(classes)(x)\n",
        "        x = Activation(\"softmax\")(x)\n",
        "\n",
        "        # create the model\n",
        "        model = Model(inputs, x, name = \"googlenet\")\n",
        "\n",
        "        # return the constructed network architecture\n",
        "        return model"
      ]
    },
    {
      "cell_type": "code",
      "execution_count": 3,
      "metadata": {
        "id": "6F3xN4-GQsPC"
      },
      "outputs": [],
      "source": [
        "# initialize the list of class label names\n",
        "CLASSES = [\"top\", \"trouser\", \"pullover\", \"dress\", \"coat\",\n",
        "\t\"sandal\", \"shirt\", \"sneaker\", \"bag\", \"ankle boot\"]"
      ]
    },
    {
      "cell_type": "code",
      "execution_count": 4,
      "metadata": {
        "colab": {
          "base_uri": "https://localhost:8080/"
        },
        "id": "cNiAsRFdQyzL",
        "outputId": "dfd9a00c-78fa-4590-8065-ff343b04a511"
      },
      "outputs": [
        {
          "output_type": "stream",
          "name": "stdout",
          "text": [
            "[INFO] loading Fashion MNIST data...\n",
            "Downloading data from https://storage.googleapis.com/tensorflow/tf-keras-datasets/train-labels-idx1-ubyte.gz\n",
            "29515/29515 [==============================] - 0s 0us/step\n",
            "Downloading data from https://storage.googleapis.com/tensorflow/tf-keras-datasets/train-images-idx3-ubyte.gz\n",
            "26421880/26421880 [==============================] - 0s 0us/step\n",
            "Downloading data from https://storage.googleapis.com/tensorflow/tf-keras-datasets/t10k-labels-idx1-ubyte.gz\n",
            "5148/5148 [==============================] - 0s 0us/step\n",
            "Downloading data from https://storage.googleapis.com/tensorflow/tf-keras-datasets/t10k-images-idx3-ubyte.gz\n",
            "4422102/4422102 [==============================] - 0s 0us/step\n"
          ]
        }
      ],
      "source": [
        "# load the training and testing data\n",
        "print(\"[INFO] loading Fashion MNIST data...\")\n",
        "((trainX, trainY), (testX, testY)) = fashion_mnist.load_data()\n",
        "# Fashion MNIST images are 28x28 but the network we will be training\n",
        "# is expecting 32x32 images\n",
        "trainX = np.array([cv2.resize(x, (32, 32)) for x in trainX])\n",
        "testX = np.array([cv2.resize(x, (32, 32)) for x in testX])\n",
        "# scale the pixel intensities to the range [0, 1]\n",
        "trainX = trainX.astype(\"float\") / 255.0\n",
        "testX = testX.astype(\"float\") / 255.0\n",
        "# reshape the data matrices to include a channel dimension (required\n",
        "# for training)\n",
        "trainX = trainX.reshape((trainX.shape[0], 32, 32, 1))\n",
        "testX = testX.reshape((testX.shape[0], 32, 32, 1))\n",
        "# convert the labels from integers to vectors\n",
        "lb = LabelBinarizer()\n",
        "trainY = lb.fit_transform(trainY)\n",
        "testY = lb.transform(testY)\n",
        "# construct the image generator for data augmentation\n",
        "aug = ImageDataGenerator(width_shift_range=0.1,\n",
        "\theight_shift_range=0.1, horizontal_flip=True,\n",
        "\tfill_mode=\"nearest\")"
      ]
    },
    {
      "cell_type": "code",
      "execution_count": 5,
      "metadata": {
        "id": "MYxMz0b1PTky"
      },
      "outputs": [],
      "source": [
        "def fetch_batch(X, y, batch_size, batch):\n",
        "    start = batch*batch_size\n",
        "    \n",
        "    X_batch = X[start:start+batch_size, :, :]\n",
        "    y_batch = y[start:start+batch_size, :]\n",
        "    \n",
        "    return X_batch, y_batch"
      ]
    },
    {
      "cell_type": "code",
      "execution_count": 6,
      "metadata": {
        "id": "zjZvYSwX-DZM"
      },
      "outputs": [],
      "source": [
        "MAX_LR = 1e-1\n",
        "batch_size = 32\n",
        "loss_history = []\n",
        "acc_history = []\n",
        "n_epochs = 50\n",
        "model = MiniGoogLeNet.build(width=32, height=32, depth=1, classes=10)\n",
        "loss_fn = tf.keras.losses.CategoricalCrossentropy()\n",
        "acc_metric = tf.keras.metrics.CategoricalAccuracy()\n",
        "opt = SGD(learning_rate=MAX_LR, momentum=0.9)\n",
        "tf.compat.v1.enable_eager_execution()"
      ]
    },
    {
      "cell_type": "code",
      "execution_count": 7,
      "metadata": {
        "id": "t7uC-gaqT84c"
      },
      "outputs": [],
      "source": [
        "batches = [32,32,32,64,64,128,256,512,512,1024,2048,2048,4096,8192,8192,16384,16384]\n",
        "tot_steps = len(batches)"
      ]
    },
    {
      "cell_type": "code",
      "execution_count": 8,
      "metadata": {
        "colab": {
          "base_uri": "https://localhost:8080/"
        },
        "id": "kGRlkm1L-IZF",
        "outputId": "b07c7c7f-999a-41ce-f199-71209adc1937"
      },
      "outputs": [
        {
          "output_type": "stream",
          "name": "stderr",
          "text": [
            "Epoch: 1/50 : 100%|██████████| 1875/1875 [02:13<00:00, 14.05it/s]\n"
          ]
        },
        {
          "output_type": "stream",
          "name": "stdout",
          "text": [
            "Accuracy over epoch 35.8017 & Loss over epoch 1.8210 \n"
          ]
        },
        {
          "output_type": "stream",
          "name": "stderr",
          "text": [
            "Epoch: 2/50 : 100%|██████████| 1875/1875 [01:51<00:00, 16.74it/s]\n"
          ]
        },
        {
          "output_type": "stream",
          "name": "stdout",
          "text": [
            "Accuracy over epoch 55.8717 & Loss over epoch 1.2933 \n"
          ]
        },
        {
          "output_type": "stream",
          "name": "stderr",
          "text": [
            "Epoch: 3/50 : 100%|██████████| 1875/1875 [01:51<00:00, 16.82it/s]\n"
          ]
        },
        {
          "output_type": "stream",
          "name": "stdout",
          "text": [
            "Accuracy over epoch 64.5700 & Loss over epoch 1.0505 \n"
          ]
        },
        {
          "output_type": "stream",
          "name": "stderr",
          "text": [
            "Epoch: 4/50 : 100%|██████████| 1875/1875 [01:52<00:00, 16.73it/s]\n"
          ]
        },
        {
          "output_type": "stream",
          "name": "stdout",
          "text": [
            "Accuracy over epoch 68.6983 & Loss over epoch 0.9175 \n"
          ]
        },
        {
          "output_type": "stream",
          "name": "stderr",
          "text": [
            "Epoch: 5/50 : 100%|██████████| 1875/1875 [01:51<00:00, 16.85it/s]\n"
          ]
        },
        {
          "output_type": "stream",
          "name": "stdout",
          "text": [
            "Accuracy over epoch 70.9300 & Loss over epoch 0.8382 \n"
          ]
        },
        {
          "output_type": "stream",
          "name": "stderr",
          "text": [
            "Epoch: 6/50 : 100%|██████████| 1875/1875 [01:51<00:00, 16.88it/s]\n"
          ]
        },
        {
          "output_type": "stream",
          "name": "stdout",
          "text": [
            "Accuracy over epoch 72.6217 & Loss over epoch 0.7830 \n"
          ]
        },
        {
          "output_type": "stream",
          "name": "stderr",
          "text": [
            "Epoch: 7/50 : 100%|██████████| 1875/1875 [01:50<00:00, 16.98it/s]\n"
          ]
        },
        {
          "output_type": "stream",
          "name": "stdout",
          "text": [
            "Accuracy over epoch 73.7567 & Loss over epoch 0.7420 \n"
          ]
        },
        {
          "output_type": "stream",
          "name": "stderr",
          "text": [
            "Epoch: 8/50 : 100%|██████████| 1875/1875 [01:50<00:00, 16.99it/s]\n"
          ]
        },
        {
          "output_type": "stream",
          "name": "stdout",
          "text": [
            "Accuracy over epoch 74.7617 & Loss over epoch 0.7108 \n"
          ]
        },
        {
          "output_type": "stream",
          "name": "stderr",
          "text": [
            "Epoch: 9/50 : 100%|██████████| 1875/1875 [01:49<00:00, 17.11it/s]\n"
          ]
        },
        {
          "output_type": "stream",
          "name": "stdout",
          "text": [
            "Accuracy over epoch 75.4400 & Loss over epoch 0.6886 \n"
          ]
        },
        {
          "output_type": "stream",
          "name": "stderr",
          "text": [
            "Epoch: 10/50 : 100%|██████████| 1875/1875 [01:49<00:00, 17.18it/s]\n"
          ]
        },
        {
          "output_type": "stream",
          "name": "stdout",
          "text": [
            "Accuracy over epoch 76.5350 & Loss over epoch 0.6565 \n"
          ]
        },
        {
          "output_type": "stream",
          "name": "stderr",
          "text": [
            "Epoch: 11/50 : 100%|██████████| 1875/1875 [01:48<00:00, 17.23it/s]\n"
          ]
        },
        {
          "output_type": "stream",
          "name": "stdout",
          "text": [
            "Accuracy over epoch 77.1567 & Loss over epoch 0.6402 \n"
          ]
        },
        {
          "output_type": "stream",
          "name": "stderr",
          "text": [
            "Epoch: 12/50 : 100%|██████████| 1875/1875 [01:48<00:00, 17.31it/s]\n"
          ]
        },
        {
          "output_type": "stream",
          "name": "stdout",
          "text": [
            "Accuracy over epoch 77.8500 & Loss over epoch 0.6169 \n"
          ]
        },
        {
          "output_type": "stream",
          "name": "stderr",
          "text": [
            "Epoch: 13/50 : 100%|██████████| 1875/1875 [01:48<00:00, 17.28it/s]\n"
          ]
        },
        {
          "output_type": "stream",
          "name": "stdout",
          "text": [
            "Accuracy over epoch 78.6583 & Loss over epoch 0.5945 \n"
          ]
        },
        {
          "output_type": "stream",
          "name": "stderr",
          "text": [
            "Epoch: 14/50 : 100%|██████████| 1875/1875 [01:48<00:00, 17.24it/s]\n"
          ]
        },
        {
          "output_type": "stream",
          "name": "stdout",
          "text": [
            "Accuracy over epoch 79.2383 & Loss over epoch 0.5815 \n"
          ]
        },
        {
          "output_type": "stream",
          "name": "stderr",
          "text": [
            "Epoch: 15/50 : 100%|██████████| 1875/1875 [01:48<00:00, 17.31it/s]\n"
          ]
        },
        {
          "output_type": "stream",
          "name": "stdout",
          "text": [
            "Accuracy over epoch 79.6683 & Loss over epoch 0.5695 \n"
          ]
        },
        {
          "output_type": "stream",
          "name": "stderr",
          "text": [
            "Epoch: 16/50 : 100%|██████████| 1875/1875 [01:48<00:00, 17.22it/s]\n"
          ]
        },
        {
          "output_type": "stream",
          "name": "stdout",
          "text": [
            "Accuracy over epoch 80.2250 & Loss over epoch 0.5570 \n"
          ]
        },
        {
          "output_type": "stream",
          "name": "stderr",
          "text": [
            "Epoch: 17/50 : 100%|██████████| 1875/1875 [01:48<00:00, 17.33it/s]\n"
          ]
        },
        {
          "output_type": "stream",
          "name": "stdout",
          "text": [
            "Accuracy over epoch 80.9533 & Loss over epoch 0.5428 \n"
          ]
        },
        {
          "output_type": "stream",
          "name": "stderr",
          "text": [
            "Epoch: 18/50 : 100%|██████████| 1875/1875 [01:48<00:00, 17.33it/s]\n"
          ]
        },
        {
          "output_type": "stream",
          "name": "stdout",
          "text": [
            "Accuracy over epoch 81.5400 & Loss over epoch 0.5267 \n"
          ]
        },
        {
          "output_type": "stream",
          "name": "stderr",
          "text": [
            "Epoch: 19/50 : 100%|██████████| 1875/1875 [01:48<00:00, 17.23it/s]\n"
          ]
        },
        {
          "output_type": "stream",
          "name": "stdout",
          "text": [
            "Accuracy over epoch 81.7217 & Loss over epoch 0.5188 \n"
          ]
        },
        {
          "output_type": "stream",
          "name": "stderr",
          "text": [
            "Epoch: 20/50 : 100%|██████████| 1875/1875 [01:48<00:00, 17.30it/s]\n"
          ]
        },
        {
          "output_type": "stream",
          "name": "stdout",
          "text": [
            "Accuracy over epoch 81.8383 & Loss over epoch 0.5138 \n"
          ]
        },
        {
          "output_type": "stream",
          "name": "stderr",
          "text": [
            "Epoch: 21/50 : 100%|██████████| 1875/1875 [01:48<00:00, 17.31it/s]\n"
          ]
        },
        {
          "output_type": "stream",
          "name": "stdout",
          "text": [
            "Accuracy over epoch 82.4567 & Loss over epoch 0.4991 \n"
          ]
        },
        {
          "output_type": "stream",
          "name": "stderr",
          "text": [
            "Epoch: 22/50 : 100%|██████████| 1875/1875 [01:48<00:00, 17.25it/s]\n"
          ]
        },
        {
          "output_type": "stream",
          "name": "stdout",
          "text": [
            "Accuracy over epoch 82.6167 & Loss over epoch 0.4929 \n"
          ]
        },
        {
          "output_type": "stream",
          "name": "stderr",
          "text": [
            "Epoch: 23/50 : 100%|██████████| 1875/1875 [01:48<00:00, 17.30it/s]\n"
          ]
        },
        {
          "output_type": "stream",
          "name": "stdout",
          "text": [
            "Accuracy over epoch 83.1650 & Loss over epoch 0.4773 \n"
          ]
        },
        {
          "output_type": "stream",
          "name": "stderr",
          "text": [
            "Epoch: 24/50 : 100%|██████████| 1875/1875 [01:48<00:00, 17.34it/s]\n"
          ]
        },
        {
          "output_type": "stream",
          "name": "stdout",
          "text": [
            "Accuracy over epoch 83.4050 & Loss over epoch 0.4748 \n"
          ]
        },
        {
          "output_type": "stream",
          "name": "stderr",
          "text": [
            "Epoch: 25/50 : 100%|██████████| 1875/1875 [01:48<00:00, 17.30it/s]\n"
          ]
        },
        {
          "output_type": "stream",
          "name": "stdout",
          "text": [
            "Accuracy over epoch 83.5967 & Loss over epoch 0.4669 \n"
          ]
        },
        {
          "output_type": "stream",
          "name": "stderr",
          "text": [
            "Epoch: 26/50 : 100%|██████████| 1875/1875 [01:48<00:00, 17.34it/s]\n"
          ]
        },
        {
          "output_type": "stream",
          "name": "stdout",
          "text": [
            "Accuracy over epoch 84.1950 & Loss over epoch 0.4530 \n"
          ]
        },
        {
          "output_type": "stream",
          "name": "stderr",
          "text": [
            "Epoch: 27/50 : 100%|██████████| 1875/1875 [01:48<00:00, 17.34it/s]\n"
          ]
        },
        {
          "output_type": "stream",
          "name": "stdout",
          "text": [
            "Accuracy over epoch 84.2817 & Loss over epoch 0.4471 \n"
          ]
        },
        {
          "output_type": "stream",
          "name": "stderr",
          "text": [
            "Epoch: 28/50 : 100%|██████████| 1875/1875 [01:48<00:00, 17.33it/s]\n"
          ]
        },
        {
          "output_type": "stream",
          "name": "stdout",
          "text": [
            "Accuracy over epoch 84.4500 & Loss over epoch 0.4448 \n"
          ]
        },
        {
          "output_type": "stream",
          "name": "stderr",
          "text": [
            "Epoch: 29/50 : 100%|██████████| 1875/1875 [01:48<00:00, 17.32it/s]\n"
          ]
        },
        {
          "output_type": "stream",
          "name": "stdout",
          "text": [
            "Accuracy over epoch 84.8850 & Loss over epoch 0.4336 \n"
          ]
        },
        {
          "output_type": "stream",
          "name": "stderr",
          "text": [
            "Epoch: 30/50 : 100%|██████████| 1875/1875 [01:48<00:00, 17.21it/s]\n"
          ]
        },
        {
          "output_type": "stream",
          "name": "stdout",
          "text": [
            "Accuracy over epoch 84.8433 & Loss over epoch 0.4288 \n"
          ]
        },
        {
          "output_type": "stream",
          "name": "stderr",
          "text": [
            "Epoch: 31/50 : 100%|██████████| 1875/1875 [01:48<00:00, 17.23it/s]\n"
          ]
        },
        {
          "output_type": "stream",
          "name": "stdout",
          "text": [
            "Accuracy over epoch 85.2800 & Loss over epoch 0.4236 \n"
          ]
        },
        {
          "output_type": "stream",
          "name": "stderr",
          "text": [
            "Epoch: 32/50 : 100%|██████████| 1875/1875 [01:48<00:00, 17.23it/s]\n"
          ]
        },
        {
          "output_type": "stream",
          "name": "stdout",
          "text": [
            "Accuracy over epoch 85.3617 & Loss over epoch 0.4184 \n"
          ]
        },
        {
          "output_type": "stream",
          "name": "stderr",
          "text": [
            "Epoch: 33/50 : 100%|██████████| 1875/1875 [01:48<00:00, 17.20it/s]\n"
          ]
        },
        {
          "output_type": "stream",
          "name": "stdout",
          "text": [
            "Accuracy over epoch 85.4633 & Loss over epoch 0.4141 \n"
          ]
        },
        {
          "output_type": "stream",
          "name": "stderr",
          "text": [
            "Epoch: 34/50 : 100%|██████████| 1875/1875 [01:49<00:00, 17.12it/s]\n"
          ]
        },
        {
          "output_type": "stream",
          "name": "stdout",
          "text": [
            "Accuracy over epoch 85.5250 & Loss over epoch 0.4129 \n"
          ]
        },
        {
          "output_type": "stream",
          "name": "stderr",
          "text": [
            "Epoch: 35/50 : 100%|██████████| 1875/1875 [01:48<00:00, 17.21it/s]\n"
          ]
        },
        {
          "output_type": "stream",
          "name": "stdout",
          "text": [
            "Accuracy over epoch 85.6450 & Loss over epoch 0.4105 \n"
          ]
        },
        {
          "output_type": "stream",
          "name": "stderr",
          "text": [
            "Epoch: 36/50 : 100%|██████████| 1875/1875 [01:48<00:00, 17.20it/s]\n"
          ]
        },
        {
          "output_type": "stream",
          "name": "stdout",
          "text": [
            "Accuracy over epoch 85.9750 & Loss over epoch 0.4026 \n"
          ]
        },
        {
          "output_type": "stream",
          "name": "stderr",
          "text": [
            "Epoch: 37/50 : 100%|██████████| 1875/1875 [01:48<00:00, 17.24it/s]\n"
          ]
        },
        {
          "output_type": "stream",
          "name": "stdout",
          "text": [
            "Accuracy over epoch 85.9600 & Loss over epoch 0.3989 \n"
          ]
        },
        {
          "output_type": "stream",
          "name": "stderr",
          "text": [
            "Epoch: 38/50 : 100%|██████████| 1875/1875 [01:48<00:00, 17.29it/s]\n"
          ]
        },
        {
          "output_type": "stream",
          "name": "stdout",
          "text": [
            "Accuracy over epoch 86.0433 & Loss over epoch 0.4006 \n"
          ]
        },
        {
          "output_type": "stream",
          "name": "stderr",
          "text": [
            "Epoch: 39/50 : 100%|██████████| 1875/1875 [01:49<00:00, 17.12it/s]\n"
          ]
        },
        {
          "output_type": "stream",
          "name": "stdout",
          "text": [
            "Accuracy over epoch 86.1800 & Loss over epoch 0.3981 \n"
          ]
        },
        {
          "output_type": "stream",
          "name": "stderr",
          "text": [
            "Epoch: 40/50 : 100%|██████████| 1875/1875 [01:49<00:00, 17.06it/s]\n"
          ]
        },
        {
          "output_type": "stream",
          "name": "stdout",
          "text": [
            "Accuracy over epoch 86.4317 & Loss over epoch 0.3860 \n"
          ]
        },
        {
          "output_type": "stream",
          "name": "stderr",
          "text": [
            "Epoch: 41/50 : 100%|██████████| 1875/1875 [01:49<00:00, 17.12it/s]\n"
          ]
        },
        {
          "output_type": "stream",
          "name": "stdout",
          "text": [
            "Accuracy over epoch 86.7683 & Loss over epoch 0.3800 \n"
          ]
        },
        {
          "output_type": "stream",
          "name": "stderr",
          "text": [
            "Epoch: 42/50 : 100%|██████████| 1875/1875 [01:49<00:00, 17.19it/s]\n"
          ]
        },
        {
          "output_type": "stream",
          "name": "stdout",
          "text": [
            "Accuracy over epoch 86.7650 & Loss over epoch 0.3795 \n"
          ]
        },
        {
          "output_type": "stream",
          "name": "stderr",
          "text": [
            "Epoch: 43/50 : 100%|██████████| 1875/1875 [01:48<00:00, 17.30it/s]\n"
          ]
        },
        {
          "output_type": "stream",
          "name": "stdout",
          "text": [
            "Accuracy over epoch 87.0317 & Loss over epoch 0.3724 \n"
          ]
        },
        {
          "output_type": "stream",
          "name": "stderr",
          "text": [
            "Epoch: 44/50 : 100%|██████████| 1875/1875 [01:48<00:00, 17.36it/s]\n"
          ]
        },
        {
          "output_type": "stream",
          "name": "stdout",
          "text": [
            "Accuracy over epoch 87.1783 & Loss over epoch 0.3695 \n"
          ]
        },
        {
          "output_type": "stream",
          "name": "stderr",
          "text": [
            "Epoch: 45/50 : 100%|██████████| 1875/1875 [01:48<00:00, 17.32it/s]\n"
          ]
        },
        {
          "output_type": "stream",
          "name": "stdout",
          "text": [
            "Accuracy over epoch 87.3967 & Loss over epoch 0.3635 \n"
          ]
        },
        {
          "output_type": "stream",
          "name": "stderr",
          "text": [
            "Epoch: 46/50 : 100%|██████████| 1875/1875 [01:48<00:00, 17.33it/s]\n"
          ]
        },
        {
          "output_type": "stream",
          "name": "stdout",
          "text": [
            "Accuracy over epoch 87.3767 & Loss over epoch 0.3621 \n"
          ]
        },
        {
          "output_type": "stream",
          "name": "stderr",
          "text": [
            "Epoch: 47/50 : 100%|██████████| 1875/1875 [01:48<00:00, 17.31it/s]\n"
          ]
        },
        {
          "output_type": "stream",
          "name": "stdout",
          "text": [
            "Accuracy over epoch 87.4783 & Loss over epoch 0.3590 \n"
          ]
        },
        {
          "output_type": "stream",
          "name": "stderr",
          "text": [
            "Epoch: 48/50 : 100%|██████████| 1875/1875 [01:48<00:00, 17.35it/s]\n"
          ]
        },
        {
          "output_type": "stream",
          "name": "stdout",
          "text": [
            "Accuracy over epoch 87.8383 & Loss over epoch 0.3518 \n"
          ]
        },
        {
          "output_type": "stream",
          "name": "stderr",
          "text": [
            "Epoch: 49/50 : 100%|██████████| 1875/1875 [01:47<00:00, 17.37it/s]\n"
          ]
        },
        {
          "output_type": "stream",
          "name": "stdout",
          "text": [
            "Accuracy over epoch 87.7467 & Loss over epoch 0.3546 \n"
          ]
        },
        {
          "output_type": "stream",
          "name": "stderr",
          "text": [
            "Epoch: 50/50 : 100%|██████████| 1875/1875 [01:47<00:00, 17.39it/s]"
          ]
        },
        {
          "output_type": "stream",
          "name": "stdout",
          "text": [
            "Accuracy over epoch 87.8967 & Loss over epoch 0.3493 \n"
          ]
        },
        {
          "output_type": "stream",
          "name": "stderr",
          "text": [
            "\n"
          ]
        }
      ],
      "source": [
        "gradients = []\n",
        "for epoch in range(n_epochs):\n",
        "    batch_size = 32\n",
        "    gradients = []\n",
        "    counter = 0\n",
        "    loss = []\n",
        "    totloss = 0\n",
        "    iter = 0\n",
        "    train_vars = model.trainable_variables\n",
        "    accum_gradient = [tf.zeros_like(this_var) for this_var in train_vars]\n",
        "    for batch in tqdm(range(len(trainX) //batch_size), desc =\"Epoch: {}/{} \".format(epoch + 1, n_epochs)):\n",
        "        X_batch, y_batch = fetch_batch(trainX, trainY, batch_size, batch)\n",
        "        with tf.GradientTape() as tape:\n",
        "            y_pred = model(X_batch, training = True)\n",
        "            loss = loss_fn(y_batch, y_pred)\n",
        "        totloss += loss\n",
        "        gradients = tape.gradient(loss, train_vars)\n",
        "        accum_gradient = [(acum_grad+grad) for acum_grad, grad in zip(accum_gradient, gradients)]\n",
        "        counter = counter + 32\n",
        "        acc_metric.update_state(y_batch, y_pred)\n",
        "        if(counter == batches[iter]):\n",
        "          accum_gradient = [this_grad/batches[iter] for this_grad in accum_gradient]\n",
        "          opt.apply_gradients(zip(accum_gradient,train_vars))\n",
        "          gradients = []\n",
        "          counter = 0\n",
        "          iter = iter + 1\n",
        "          accum_gradient = [tf.zeros_like(this_var) for this_var in train_vars]\n",
        "    train_acc = acc_metric.result()\n",
        "    print(f\"Accuracy over epoch {'{:.4f}'.format(train_acc*100)} & Loss over epoch {'{:.4f}'.format(totloss / (len(trainX) //batch_size))} \")\n",
        "    loss_history.append(totloss)\n",
        "    acc_history.append(train_acc)\n",
        "    acc_metric.reset_state()"
      ]
    },
    {
      "cell_type": "code",
      "execution_count": 13,
      "metadata": {
        "id": "sLlJIezMA4sj",
        "colab": {
          "base_uri": "https://localhost:8080/",
          "height": 301
        },
        "outputId": "b2aa3364-199f-4916-f644-a63a25791378"
      },
      "outputs": [
        {
          "output_type": "display_data",
          "data": {
            "text/plain": [
              "<Figure size 432x288 with 1 Axes>"
            ],
            "image/png": "[encoded data removed]"
          },
          "metadata": {
            "needs_background": "light"
          }
        }
      ],
      "source": [
        "N = np.arange(0, n_epochs-4)\n",
        "loss_history = [loss_history[idx].numpy()/(len(trainX) //batch_size) for idx, i in enumerate(loss_history)][4:]\n",
        "%matplotlib inline\n",
        "plt.close('all')\n",
        "sns.lineplot(x=N, y=loss_history, color=sns.color_palette()[1], label=\"train_loss\");\n",
        "plt.title(\"Training Loss\")\n",
        "plt.xlabel(\"Epoch #\")\n",
        "plt.ylabel(\"Loss\")\n",
        "plt.show()"
      ]
    },
    {
      "cell_type": "code",
      "execution_count": 14,
      "metadata": {
        "id": "xNWI2l6nEAu3",
        "colab": {
          "base_uri": "https://localhost:8080/",
          "height": 301
        },
        "outputId": "4a7337ed-839f-47ef-aed8-8f998ec5a850"
      },
      "outputs": [
        {
          "output_type": "display_data",
          "data": {
            "text/plain": [
              "<Figure size 432x288 with 1 Axes>"
            ],
            "image/png": "[encoded data removed]"
          },
          "metadata": {
            "needs_background": "light"
          }
        }
      ],
      "source": [
        "acc_history = [acc_history[idx].numpy()*100 for idx, i in enumerate(acc_history)][4:]\n",
        "%matplotlib inline\n",
        "plt.close('all')\n",
        "sns.lineplot(x=N, y=acc_history, color=sns.color_palette()[1], label=\"train_accuracy\");\n",
        "plt.title(\"Training Accuracy\")\n",
        "plt.xlabel(\"Epoch #\")\n",
        "plt.ylabel(\"Accuracy\")\n",
        "plt.show()"
      ]
    },
    {
      "cell_type": "code",
      "execution_count": 15,
      "metadata": {
        "id": "puPMSxsREjgq",
        "colab": {
          "base_uri": "https://localhost:8080/",
          "height": 301
        },
        "outputId": "4c6ccb78-5298-41c7-8ae1-d791dd250814"
      },
      "outputs": [
        {
          "output_type": "display_data",
          "data": {
            "text/plain": [
              "<Figure size 432x288 with 1 Axes>"
            ],
            "image/png": "[encoded data removed]"
          },
          "metadata": {
            "needs_background": "light"
          }
        }
      ],
      "source": [
        "st = np.arange(1, len(batches) + 1)\n",
        "%matplotlib inline\n",
        "plt.close('all')\n",
        "sns.lineplot(x=st, y=batches, color=sns.color_palette()[1], label=\"batch size\");\n",
        "plt.title(\"Batch Size Increments every Epoch with Step Size = 17\")\n",
        "plt.xlabel(\"Steps\")\n",
        "plt.ylabel(\"Batch Size\")\n",
        "plt.show()"
      ]
    },
    {
      "cell_type": "markdown",
      "metadata": {
        "id": "4mX74OQSYD1V"
      },
      "source": [
        "Inference:\n",
        "\n",
        "The generalization of this particular model where the batch size increments from 32 until 16384 by a factor of 2 starting every epoch is much better than the other model."
      ]
    }
  ],
  "metadata": {
    "accelerator": "GPU",
    "colab": {
      "provenance": []
    },
    "gpuClass": "standard",
    "kernelspec": {
      "display_name": "Python 3",
      "name": "python3"
    },
    "language_info": {
      "name": "python"
    }
  },
  "nbformat": 4,
  "nbformat_minor": 0
}